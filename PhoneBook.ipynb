{
  "nbformat": 4,
  "nbformat_minor": 0,
  "metadata": {
    "colab": {
      "provenance": [],
      "authorship_tag": "ABX9TyPS3YBDG5OYtqnQJr4f0mhb",
      "include_colab_link": true
    },
    "kernelspec": {
      "name": "python3",
      "display_name": "Python 3"
    },
    "language_info": {
      "name": "python"
    }
  },
  "cells": [
    {
      "cell_type": "markdown",
      "metadata": {
        "id": "view-in-github",
        "colab_type": "text"
      },
      "source": [
        "<a href=\"https://colab.research.google.com/github/esosa09/phonebook/blob/main/PhoneBook.ipynb\" target=\"_parent\"><img src=\"https://colab.research.google.com/assets/colab-badge.svg\" alt=\"Open In Colab\"/></a>"
      ]
    },
    {
      "cell_type": "code",
      "execution_count": null,
      "metadata": {
        "colab": {
          "base_uri": "https://localhost:8080/"
        },
        "id": "F7FJ8gZCHzsq",
        "outputId": "5b839945-9789-4723-c002-3640e4b575c1"
      },
      "outputs": [
        {
          "output_type": "stream",
          "name": "stdout",
          "text": [
            "Enter names and numbers. Type 'done' as the name when finished.\n",
            "\n",
            "Enter a name: Mom\n",
            "Enter the number for Mom: 123\n",
            "Enter a name: Esosa\n",
            "Enter the number for Esosa: 678\n",
            "Enter a name: Dad\n",
            "Enter the number for Dad: 456\n",
            "Enter a name: Brother\n",
            "Enter the number for Brother: 770\n",
            "Enter a name: Sister\n",
            "Enter the number for Sister: 567\n",
            "Enter a name: done\n",
            "\n",
            "Enter a name to search for: Esosa\n",
            "The number for Esosa is 678\n"
          ]
        }
      ],
      "source": [
        "phone_book = {}\n",
        "\n",
        "print(\"Enter names and numbers. Type 'done' as the name when finished.\\n\")\n",
        "\n",
        "# Collect name-number pairs\n",
        "while True:\n",
        "    name = input(\"Enter a name: \")\n",
        "\n",
        "    # Stop if the user types 'done'\n",
        "    if name.lower() == \"done\":\n",
        "        break\n",
        "\n",
        "    number = input(f\"Enter the number for {name}: \")\n",
        "    phone_book[name] = number  # Store in dictionary\n",
        "\n",
        "# Search for a name\n",
        "search_name = input(\"\\nEnter a name to search for: \")\n",
        "\n",
        "if search_name in phone_book:\n",
        "    print(f\"The number for {search_name} is {phone_book[search_name]}\")\n",
        "else:\n",
        "    print(f\"{search_name} not found in phone book.\")"
      ]
    }
  ]
}